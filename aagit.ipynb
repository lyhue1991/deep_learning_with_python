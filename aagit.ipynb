{
 "cells": [
  {
   "cell_type": "code",
   "execution_count": 1,
   "metadata": {
    "ExecuteTime": {
     "end_time": "2019-02-14T07:14:54.478866Z",
     "start_time": "2019-02-14T07:14:51.820366Z"
    }
   },
   "outputs": [],
   "source": [
    "!git config --global user.name \"lyhue1991\"\n",
    "!git config --global user.email \"lyhue1991@163.com\"\n",
    "\n",
    "# 出现一些类似 warning: LF will be replaced by CRLF in <file-name>. 可启用如下设置。\n",
    "!git config --global core.autocrlf false\n",
    "\n",
    "# 配置打印历史commit的快捷命令\n",
    "!git config --global alias.lg \"log --oneline --graph --all\""
   ]
  },
  {
   "cell_type": "code",
   "execution_count": 2,
   "metadata": {
    "ExecuteTime": {
     "end_time": "2019-02-14T07:14:55.850866Z",
     "start_time": "2019-02-14T07:14:55.245366Z"
    }
   },
   "outputs": [
    {
     "name": "stdout",
     "output_type": "stream",
     "text": [
      "Initialized empty Git repository in C:/Users/liangyun/OneDrive/PythonFiles/deep_learning_with_python/.git/\n"
     ]
    }
   ],
   "source": [
    "!git init"
   ]
  },
  {
   "cell_type": "code",
   "execution_count": 3,
   "metadata": {
    "ExecuteTime": {
     "end_time": "2019-02-14T07:14:58.831866Z",
     "start_time": "2019-02-14T07:14:57.713866Z"
    }
   },
   "outputs": [],
   "source": [
    "!git add -A"
   ]
  },
  {
   "cell_type": "code",
   "execution_count": 4,
   "metadata": {
    "ExecuteTime": {
     "end_time": "2019-02-14T07:15:08.925366Z",
     "start_time": "2019-02-14T07:15:07.751866Z"
    }
   },
   "outputs": [
    {
     "name": "stdout",
     "output_type": "stream",
     "text": [
      "[master (root-commit) 1fee0f1] first version\n",
      " 25 files changed, 18861 insertions(+)\n",
      " create mode 100644 .ipynb_checkpoints/2.1-a-first-look-at-a-neural-network-checkpoint.ipynb\n",
      " create mode 100644 .ipynb_checkpoints/3.5-classifying-movie-reviews-checkpoint.ipynb\n",
      " create mode 100644 .ipynb_checkpoints/aagit-checkpoint.ipynb\n",
      " create mode 100644 2.1-a-first-look-at-a-neural-network.ipynb\n",
      " create mode 100644 3.5-classifying-movie-reviews.ipynb\n",
      " create mode 100644 3.6-classifying-newswires.ipynb\n",
      " create mode 100644 3.7-predicting-house-prices.ipynb\n",
      " create mode 100644 4.4-overfitting-and-underfitting.ipynb\n",
      " create mode 100644 5.1-introduction-to-convnets.ipynb\n",
      " create mode 100644 5.2-using-convnets-with-small-datasets.ipynb\n",
      " create mode 100644 5.3-using-a-pretrained-convnet.ipynb\n",
      " create mode 100644 5.4-visualizing-what-convnets-learn.ipynb\n",
      " create mode 100644 6.1-one-hot-encoding-of-words-or-characters.ipynb\n",
      " create mode 100644 6.1-using-word-embeddings.ipynb\n",
      " create mode 100644 6.2-understanding-recurrent-neural-networks.ipynb\n",
      " create mode 100644 6.3-advanced-usage-of-recurrent-neural-networks.ipynb\n",
      " create mode 100644 6.4-sequence-processing-with-convnets.ipynb\n",
      " create mode 100644 8.1-text-generation-with-lstm.ipynb\n",
      " create mode 100644 8.2-deep-dream.ipynb\n",
      " create mode 100644 8.3-neural-style-transfer.ipynb\n",
      " create mode 100644 8.4-generating-images-with-vaes.ipynb\n",
      " create mode 100644 8.5-introduction-to-gans.ipynb\n",
      " create mode 100644 LICENSE\n",
      " create mode 100644 README.md\n",
      " create mode 100644 aagit.ipynb\n"
     ]
    }
   ],
   "source": [
    "!git commit -m\"first version\""
   ]
  },
  {
   "cell_type": "code",
   "execution_count": 5,
   "metadata": {
    "ExecuteTime": {
     "end_time": "2019-02-14T07:15:13.144866Z",
     "start_time": "2019-02-14T07:15:12.119366Z"
    }
   },
   "outputs": [],
   "source": [
    "!git remote add origin https://github.com/lyhue1991/deep_learning_with_python.git"
   ]
  },
  {
   "cell_type": "code",
   "execution_count": null,
   "metadata": {},
   "outputs": [],
   "source": [
    "!git rebase origin/master"
   ]
  },
  {
   "cell_type": "code",
   "execution_count": null,
   "metadata": {
    "ExecuteTime": {
     "start_time": "2019-02-14T07:15:14.871Z"
    }
   },
   "outputs": [],
   "source": [
    "!git push -u origin master "
   ]
  }
 ],
 "metadata": {
  "kernelspec": {
   "display_name": "Python 3",
   "language": "python",
   "name": "python3"
  },
  "language_info": {
   "codemirror_mode": {
    "name": "ipython",
    "version": 3
   },
   "file_extension": ".py",
   "mimetype": "text/x-python",
   "name": "python",
   "nbconvert_exporter": "python",
   "pygments_lexer": "ipython3",
   "version": "3.6.7"
  }
 },
 "nbformat": 4,
 "nbformat_minor": 2
}
